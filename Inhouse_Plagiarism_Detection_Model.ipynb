{
  "cells": [
    {
      "cell_type": "markdown",
      "metadata": {
        "id": "7ayN4sTqRwq7"
      },
      "source": [
        "# Inhouse Plagiarism Testing Model"
      ]
    },
    {
      "cell_type": "code",
      "execution_count": null,
      "metadata": {
        "id": "iKmZWA_csfn6"
      },
      "outputs": [],
      "source": [
        "!pip install matplotlib scikit-learn >/dev/null\n",
        "print(\"Successful\")"
      ]
    },
    {
      "cell_type": "code",
      "execution_count": null,
      "metadata": {
        "id": "wYCcEtdUM12R"
      },
      "outputs": [],
      "source": [
        "!pip install python-docx"
      ]
    },
    {
      "cell_type": "code",
      "execution_count": null,
      "metadata": {
        "id": "Imqs_POKPHuB"
      },
      "outputs": [],
      "source": [
        "#importing libraries for model building\n",
        "\n",
        "import os\n",
        "\n",
        "import matplotlib.pyplot as plt\n",
        "\n",
        "from sklearn.feature_extraction.text import TfidfVectorizer\n",
        "\n",
        "from sklearn.metrics.pairwise import cosine_similarity"
      ]
    },
    {
      "cell_type": "code",
      "execution_count": null,
      "metadata": {
        "id": "IfqLr2gxKmuJ"
      },
      "outputs": [],
      "source": [
        "#Create Test directory\n",
        "os.chdir(\"/content/Test\")"
      ]
    },
    {
      "cell_type": "code",
      "execution_count": null,
      "metadata": {
        "id": "9MG5nx24ElX0"
      },
      "outputs": [],
      "source": [
        "#code to seprate text and images from word docx\n",
        "\n",
        "from docx import Document\n",
        "from docx.shared import Inches\n",
        "import io\n",
        "import os\n",
        "\n",
        "def extract_images_and_text(doc_path):\n",
        "    doc = Document(doc_path)\n",
        "    image_dir = os.path.join(os.path.dirname(doc_path), \"images\")\n",
        "    os.makedirs(image_dir, exist_ok=True)\n",
        "\n",
        "    for rel in doc.part.rels.values():\n",
        "        if \"image\" not in rel.reltype:\n",
        "            continue\n",
        "        image_data = rel._target._blob\n",
        "        image_ext = os.path.splitext(rel._reltype)[1]\n",
        "        image_path = os.path.join(image_dir, f\"{rel.rId}{image_ext}\")\n",
        "\n",
        "        with open(image_path, \"wb\") as img_file:\n",
        "            img_file.write(image_data)\n",
        "\n",
        "    text = '\\n'.join([paragraph.text for paragraph in doc.paragraphs])\n",
        "\n",
        "    with open('text.txt', 'w') as f:\n",
        "        f.write(text)\n",
        "    return \"text.txt\""
      ]
    },
    {
      "cell_type": "code",
      "execution_count": null,
      "metadata": {
        "id": "tRENgv-GSHdJ"
      },
      "outputs": [],
      "source": [
        "# Call the function with your docx file\n",
        "for file in os.listdir():\n",
        "  if file.endswith(\".docx\"):\n",
        "    text = extract_images_and_text(file)\n",
        "    named_text = str(file[:-5])\n",
        "    named_text = named_text + \".txt\"\n",
        "    os.rename(text,named_text)"
      ]
    },
    {
      "cell_type": "code",
      "execution_count": null,
      "metadata": {
        "id": "iLOJwZalO9uI"
      },
      "outputs": [],
      "source": [
        "# moving text file to a different location\n",
        "\n",
        "import os\n",
        "import shutil\n",
        "\n",
        "def move_txt_files(source_dir, target_dir):\n",
        "    # Create the target directory if it doesn't exist\n",
        "    os.makedirs(target_dir, exist_ok=True)\n",
        "\n",
        "    for filename in os.listdir(source_dir):\n",
        "        if filename.endswith('.txt'):\n",
        "            # Construct full file path\n",
        "            source = os.path.join(source_dir, filename)\n",
        "            target = os.path.join(target_dir, filename)\n",
        "            # Move the file\n",
        "            shutil.move(source, target)\n",
        "\n",
        "# Call the function with your directories\n",
        "move_txt_files('/content/Test', '/content/Test/Text files')"
      ]
    },
    {
      "cell_type": "code",
      "execution_count": null,
      "metadata": {
        "id": "QbP_MQhTR7Tj"
      },
      "outputs": [],
      "source": [
        "os.chdir(\"/content/Test/Text files\")"
      ]
    },
    {
      "cell_type": "code",
      "execution_count": null,
      "metadata": {
        "id": "9-8v4PFhPTD1"
      },
      "outputs": [],
      "source": [
        "# Get a list of student files\n",
        "student_file = [file for file in os.listdir() if file.endswith('.txt')]\n",
        "\n",
        "# Read the content of each student's file\n",
        "\n",
        "student_docs = [open(file).read() for file in student_file]\n",
        "\n",
        "# Print the list of student files and their content\n",
        "\n",
        "for filename, document in zip(student_file, student_docs):\n",
        "\n",
        "    print(f\"File: {filename}\")\n",
        "\n",
        "    print(\"Content:\")\n",
        "\n",
        "    print(document)\n",
        "\n",
        "    print(\"-\" * 30)  # Separator between documents"
      ]
    },
    {
      "cell_type": "code",
      "execution_count": null,
      "metadata": {
        "id": "81cd2h9JoNVM"
      },
      "outputs": [],
      "source": [
        "# Function to create TF-IDF vectors from a list of documents\n",
        "\n",
        "def create_tfidf_vectors(docs):\n",
        "\n",
        "    return TfidfVectorizer().fit_transform(docs).toarray()"
      ]
    },
    {
      "cell_type": "code",
      "execution_count": null,
      "metadata": {
        "id": "huwXqC24o2Wc"
      },
      "outputs": [],
      "source": [
        "# Function to calculate cosine similarity between two document vectors\n",
        "\n",
        "def calc_cosine_similarity(vector1, vector2):\n",
        "\n",
        "    return cosine_similarity([vector1, vector2])"
      ]
    },
    {
      "cell_type": "code",
      "execution_count": null,
      "metadata": {
        "id": "B2xim89Co5Ta"
      },
      "outputs": [],
      "source": [
        "# Create TF-IDF vectors for the student documents\n",
        "\n",
        "doc_vec = create_tfidf_vectors(student_docs)\n",
        "# Pair each document with its corresponding filename\n",
        "\n",
        "doc_filename_pairs = list(zip(student_file, doc_vec))"
      ]
    },
    {
      "cell_type": "code",
      "execution_count": null,
      "metadata": {
        "id": "C28Za_VRo8Cr"
      },
      "outputs": [],
      "source": [
        "# Function to check for plagiarism\n",
        "\n",
        "def find_plagiarism():\n",
        "\n",
        "    # Initialize an empty set to store plagiarism results\n",
        "\n",
        "    plagiarism_results = set()\n",
        "\n",
        "\n",
        "    # Access the global variable doc_filename_pairs\n",
        "\n",
        "    global doc_filename_pairs\n",
        "\n",
        "\n",
        "    # Iterate through each student's file and vector\n",
        "\n",
        "    for student_a_file, student_a_vec in doc_filename_pairs:\n",
        "\n",
        "        # Create a copy of the document-filename pairs for iteration\n",
        "\n",
        "        remaining_pairs = doc_filename_pairs.copy()\n",
        "\n",
        "\n",
        "        # Find the index of the current document-filename pair\n",
        "\n",
        "        current_index = remaining_pairs.index((student_a_file, student_a_vec))\n",
        "\n",
        "\n",
        "        # Remove the current pair from the remaining pairs\n",
        "\n",
        "        del remaining_pairs[current_index]\n",
        "\n",
        "\n",
        "        # Iterate through the remaining pairs to compare with other students\n",
        "\n",
        "        for student_b_file, student_b_vec in remaining_pairs:\n",
        "\n",
        "            # Calculate the cosine similarity between student_a_vec and student_b_vec\n",
        "\n",
        "            similarity_score = calc_cosine_similarity(student_a_vec, student_b_vec)[0][1]\n",
        "\n",
        "\n",
        "            # Sort the filenames to maintain consistency in results\n",
        "\n",
        "            sorted_filenames = sorted((student_a_file, student_b_file))\n",
        "\n",
        "\n",
        "            # Create a plagiarism result tuple with sorted filenames and similarity score\n",
        "\n",
        "            plagiarism_result = (sorted_filenames[0], sorted_filenames[1], similarity_score)\n",
        "\n",
        "\n",
        "            # Add the result to the plagiarism_results set\n",
        "\n",
        "            plagiarism_results.add(plagiarism_result)\n",
        "\n",
        "\n",
        "    # Return the set of plagiarism results\n",
        "\n",
        "    return plagiarism_results\n",
        "\n",
        "\n",
        "# Print plagiarism results\n",
        "\n",
        "plagiarism_results = find_plagiarism()\n",
        "\n",
        "\n",
        "for result in plagiarism_results:\n",
        "  print(result)"
      ]
    },
    {
      "cell_type": "code",
      "execution_count": null,
      "metadata": {
        "id": "MPrGD_ld0xVs"
      },
      "outputs": [],
      "source": [
        "file = input()\n",
        "file = file.replace(\"docx\",\"txt\")\n",
        "coun = 0\n",
        "for reports in plagiarism_results:\n",
        "  if file in reports:\n",
        "    if float(reports[2]) > 0.098:\n",
        "      print(reports[0],reports[1], reports[2]*100, \"%\")\n",
        "      coun += 1\n",
        "if coun < 1:\n",
        "  print(\"Non Plag\")"
      ]
    }
  ],
  "metadata": {
    "colab": {
      "provenance": []
    },
    "kernelspec": {
      "display_name": "Python 3",
      "name": "python3"
    },
    "language_info": {
      "name": "python"
    }
  },
  "nbformat": 4,
  "nbformat_minor": 0
}
